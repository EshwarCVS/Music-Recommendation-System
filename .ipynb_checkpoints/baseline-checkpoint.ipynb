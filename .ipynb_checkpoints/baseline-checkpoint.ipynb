{
 "cells": [
  {
   "cell_type": "code",
   "execution_count": null,
   "metadata": {},
   "outputs": [],
   "source": [
    "import csv\n",
    "\n"
   ]
  },
  {
   "cell_type": "code",
   "execution_count": null,
   "metadata": {},
   "outputs": [],
   "source": [
    "for p_files in range(1,7):\n",
    "    '''i is the user index,change to the one in your case'''\n",
    "    for i in range(100,101):\n",
    "        count=0\n",
    "        with open('p%d.csv'%p_files,'r') as fin:\n",
    "            for row in csv.reader(fin, delimiter=','):\n",
    "                if row[0] == 'user_000%d' %i:\n",
    "                    count = count+1\n",
    "            print ( count )\n",
    "            with open('p%d.csv'%p_files, 'r') as fi ,open ('user%d.csv' %i,'a', encoding='utf-8') as fout :\n",
    "                writer = csv.writer(fout, delimiter=',')\n",
    "                for row in csv.reader(fi, delimiter=','):\n",
    "                    if row[0] == 'user_000%d' %i:\n",
    "                        writer.writerow(row)"
   ]
  }
 ],
 "metadata": {
  "kernelspec": {
   "display_name": "Python 3",
   "language": "python",
   "name": "python3"
  },
  "language_info": {
   "codemirror_mode": {
    "name": "ipython",
    "version": 3
   },
   "file_extension": ".py",
   "mimetype": "text/x-python",
   "name": "python",
   "nbconvert_exporter": "python",
   "pygments_lexer": "ipython3",
   "version": "3.8.5"
  }
 },
 "nbformat": 4,
 "nbformat_minor": 4
}
